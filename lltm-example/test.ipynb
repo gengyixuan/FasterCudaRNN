{
 "cells": [
  {
   "cell_type": "code",
   "execution_count": 19,
   "metadata": {},
   "outputs": [],
   "source": [
    "import torch\n",
    "import math\n",
    "import time\n",
    "from LLTMpython.LLTM import LLTM as LLTMpython\n",
    "from LLTMcpp.LLTM import LLTM as LLTMcpp\n",
    "from LLTMcuda.LLTM import LLTM as LLTMcuda\n",
    "\n",
    "assert torch.cuda.is_available()\n",
    "cuda_device = torch.device(\"cuda\")  # device object representing GPU\n",
    "cpu_device = torch.device(\"cpu\")\n",
    "\n",
    "\n",
    "batch_size = 16\n",
    "input_features = 32\n",
    "state_size = 128\n",
    "test_iters = 10000\n",
    "\n",
    "X = torch.randn(batch_size, input_features, device=cpu_device)\n",
    "h = torch.randn(batch_size, state_size, device=cpu_device)\n",
    "C = torch.randn(batch_size, state_size, device=cpu_device)\n",
    "\n",
    "# Note the device=cuda_device arguments here\n",
    "X_gpu = torch.randn(batch_size, input_features, device=cuda_device)\n",
    "h_gpu = torch.randn(batch_size, state_size, device=cuda_device)\n",
    "C_gpu = torch.randn(batch_size, state_size, device=cuda_device)\n"
   ]
  },
  {
   "cell_type": "code",
   "execution_count": 22,
   "metadata": {},
   "outputs": [
    {
     "name": "stdout",
     "output_type": "stream",
     "text": [
      "lltm python on cpu: Forward: 148.375 us | Backward 185.603 us\n"
     ]
    }
   ],
   "source": [
    "# ======================================\n",
    "# test basic python lltm on cpu\n",
    "\n",
    "lltm_python = LLTMpython(input_features, state_size).to(cpu_device)\n",
    "\n",
    "python_cpu_forward = 0\n",
    "python_cpu_backward = 0\n",
    "\n",
    "for _ in range(test_iters):\n",
    "    start = time.time()\n",
    "    new_h, new_C = lltm_python(X, (h, C))\n",
    "    python_cpu_forward += time.time() - start\n",
    "\n",
    "    start = time.time()\n",
    "    (new_h.sum() + new_C.sum()).backward()\n",
    "    python_cpu_backward += time.time() - start\n",
    "\n",
    "print('lltm python on cpu: Forward: {:.3f} us | Backward {:.3f} us'.format(python_cpu_forward * 1e6/test_iters, python_cpu_backward * 1e6/test_iters))"
   ]
  },
  {
   "cell_type": "code",
   "execution_count": 21,
   "metadata": {},
   "outputs": [
    {
     "name": "stdout",
     "output_type": "stream",
     "text": [
      "lltm python on gpu: Forward: 177.758 us | Backward 336.158 us\n"
     ]
    }
   ],
   "source": [
    "# ======================================\n",
    "# test basic python lltm on gpu\n",
    "\n",
    "lltm_python = LLTMpython(input_features, state_size).to(cuda_device)\n",
    "\n",
    "python_gpu_forward = 0\n",
    "python_gpu_backward = 0\n",
    "\n",
    "for _ in range(test_iters):\n",
    "    start = time.time()\n",
    "    new_h, new_C = lltm_python(X_gpu, (h_gpu, C_gpu))\n",
    "    python_gpu_forward += time.time() - start\n",
    "\n",
    "    start = time.time()\n",
    "    (new_h.sum() + new_C.sum()).backward()\n",
    "    python_gpu_backward += time.time() - start\n",
    "\n",
    "print('lltm python on gpu: Forward: {:.3f} us | Backward {:.3f} us'.format(python_gpu_forward * 1e6/test_iters, python_gpu_backward * 1e6/test_iters))"
   ]
  },
  {
   "cell_type": "code",
   "execution_count": 23,
   "metadata": {},
   "outputs": [
    {
     "name": "stdout",
     "output_type": "stream",
     "text": [
      "lltm cpp Forward: 129.469 us | Backward 332.626 us\n"
     ]
    }
   ],
   "source": [
    "# ======================================\n",
    "# test cpp extended lltm on cpu\n",
    "\n",
    "lltm_cpp = LLTMcpp(input_features, state_size).to(cpu_device)\n",
    "\n",
    "cpp_cpu_forward = 0\n",
    "cpp_cpu_backward = 0\n",
    "for _ in range(test_iters):\n",
    "    start = time.time()\n",
    "    new_h, new_C = lltm_cpp(X, (h, C))\n",
    "    cpp_cpu_forward += time.time() - start\n",
    "\n",
    "    start = time.time()\n",
    "    (new_h.sum() + new_C.sum()).backward()\n",
    "    cpp_cpu_backward += time.time() - start\n",
    "\n",
    "print('lltm cpp on cpu: Forward: {:.3f} us | Backward {:.3f} us'.format(cpp_cpu_forward * 1e6/test_iters, cpp_cpu_backward * 1e6/test_iters))"
   ]
  },
  {
   "cell_type": "code",
   "execution_count": 24,
   "metadata": {},
   "outputs": [
    {
     "name": "stdout",
     "output_type": "stream",
     "text": [
      "lltm cpp on gpu Forward: 150.908 us | Backward 575.817 us\n"
     ]
    }
   ],
   "source": [
    "# ======================================\n",
    "# test cpp extended lltm on gpu\n",
    "\n",
    "lltm_cpp = LLTMcpp(input_features, state_size).to(cuda_device)\n",
    "\n",
    "cpp_gpu_forward = 0\n",
    "cpp_gpu_backward = 0\n",
    "for _ in range(test_iters):\n",
    "    start = time.time()\n",
    "    new_h, new_C = lltm_cpp(X_gpu, (h_gpu, C_gpu))\n",
    "    cpp_gpu_forward += time.time() - start\n",
    "\n",
    "    start = time.time()\n",
    "    (new_h.sum() + new_C.sum()).backward()\n",
    "    cpp_gpu_backward += time.time() - start\n",
    "\n",
    "print('lltm cpp on gpu: Forward: {:.3f} us | Backward {:.3f} us'.format(cpp_gpu_forward * 1e6/test_iters, cpp_gpu_backward * 1e6/test_iters))"
   ]
  },
  {
   "cell_type": "code",
   "execution_count": 25,
   "metadata": {},
   "outputs": [
    {
     "name": "stdout",
     "output_type": "stream",
     "text": [
      "Forward: 113.235 us | Backward 308.208 us\n"
     ]
    }
   ],
   "source": [
    "# ========================================\n",
    "# test cuda lltm on gpu\n",
    "\n",
    "lltm_cuda = LLTMcuda(input_features, state_size).to(cuda_device)\n",
    "\n",
    "cuda_gpu_forward = 0\n",
    "cuda_gpu_backward = 0\n",
    "for _ in range(test_iters):\n",
    "    start = time.time()\n",
    "    new_h, new_C = lltm_cuda(X_gpu, (h_gpu, C_gpu))\n",
    "    torch.cuda.synchronize()\n",
    "    cuda_gpu_forward += time.time() - start\n",
    "\n",
    "    start = time.time()\n",
    "    (new_h.sum() + new_C.sum()).backward()\n",
    "    torch.cuda.synchronize()\n",
    "    cuda_gpu_backward += time.time() - start\n",
    "\n",
    "print('lltm cuda on gpu: Forward: {:.3f} us | Backward {:.3f} us'.format(cuda_gpu_forward * 1e6/test_iters, cuda_gpu_backward * 1e6/test_iters))"
   ]
  },
  {
   "cell_type": "code",
   "execution_count": 27,
   "metadata": {},
   "outputs": [
    {
     "name": "stdout",
     "output_type": "stream",
     "text": [
      "lltm python on cpu: Forward: 148.375 us | Backward 185.603 us\n",
      "lltm python on gpu: Forward: 177.758 us | Backward 336.158 us\n",
      "lltm cpp on cpu: Forward: 129.469 us | Backward 332.626 us\n",
      "lltm cpp on gpu: Forward: 150.908 us | Backward 575.817 us\n",
      "lltm cuda on gpu: Forward: 113.235 us | Backward 308.208 us\n"
     ]
    }
   ],
   "source": [
    "# print all results\n",
    "print('lltm python on cpu: Forward: {:.3f} us | Backward {:.3f} us'.format(python_cpu_forward * 1e6/test_iters, python_cpu_backward * 1e6/test_iters))\n",
    "print('lltm python on gpu: Forward: {:.3f} us | Backward {:.3f} us'.format(python_gpu_forward * 1e6/test_iters, python_gpu_backward * 1e6/test_iters))\n",
    "print('lltm cpp on cpu: Forward: {:.3f} us | Backward {:.3f} us'.format(cpp_cpu_forward * 1e6/test_iters, cpp_cpu_backward * 1e6/test_iters))\n",
    "print('lltm cpp on gpu: Forward: {:.3f} us | Backward {:.3f} us'.format(cpp_gpu_forward * 1e6/test_iters, cpp_gpu_backward * 1e6/test_iters))\n",
    "print('lltm cuda on gpu: Forward: {:.3f} us | Backward {:.3f} us'.format(cuda_gpu_forward * 1e6/test_iters, cuda_gpu_backward * 1e6/test_iters))"
   ]
  },
  {
   "cell_type": "code",
   "execution_count": null,
   "metadata": {},
   "outputs": [],
   "source": []
  }
 ],
 "metadata": {
  "kernelspec": {
   "display_name": "Python 3",
   "language": "python",
   "name": "python3"
  },
  "language_info": {
   "codemirror_mode": {
    "name": "ipython",
    "version": 3
   },
   "file_extension": ".py",
   "mimetype": "text/x-python",
   "name": "python",
   "nbconvert_exporter": "python",
   "pygments_lexer": "ipython3",
   "version": "3.6.8"
  }
 },
 "nbformat": 4,
 "nbformat_minor": 2
}
