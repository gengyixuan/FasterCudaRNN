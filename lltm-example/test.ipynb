{
 "cells": [
  {
   "cell_type": "code",
   "execution_count": 1,
   "metadata": {},
   "outputs": [],
   "source": [
    "import torch\n",
    "import math\n",
    "import time\n",
    "from LLTMpython.LLTM import LLTM as LLTMpython\n",
    "from LLTMcpp.LLTM import LLTM as LLTMcpp\n",
    "from LLTMcuda.LLTM import LLTM as LLTMcuda\n",
    "\n",
    "\n",
    "batch_size = 16\n",
    "input_features = 32\n",
    "state_size = 128\n",
    "test_iters = 10000"
   ]
  },
  {
   "cell_type": "code",
   "execution_count": 3,
   "metadata": {},
   "outputs": [
    {
     "name": "stderr",
     "output_type": "stream",
     "text": [
      "/home/frank/.local/lib/python3.6/site-packages/torch/nn/functional.py:1332: UserWarning: nn.functional.sigmoid is deprecated. Use torch.sigmoid instead.\n",
      "  warnings.warn(\"nn.functional.sigmoid is deprecated. Use torch.sigmoid instead.\")\n",
      "/home/frank/.local/lib/python3.6/site-packages/torch/nn/functional.py:1320: UserWarning: nn.functional.tanh is deprecated. Use torch.tanh instead.\n",
      "  warnings.warn(\"nn.functional.tanh is deprecated. Use torch.tanh instead.\")\n"
     ]
    },
    {
     "name": "stdout",
     "output_type": "stream",
     "text": [
      "lltm python Forward: 151.484 us | Backward 187.823 us\n"
     ]
    }
   ],
   "source": [
    "# ======================================\n",
    "# test basic python lltm\n",
    "\n",
    "X = torch.randn(batch_size, input_features)\n",
    "h = torch.randn(batch_size, state_size)\n",
    "C = torch.randn(batch_size, state_size)\n",
    "\n",
    "lltm_python = LLTMpython(input_features, state_size)\n",
    "\n",
    "forward = 0\n",
    "backward = 0\n",
    "\n",
    "for _ in range(test_iters):\n",
    "    start = time.time()\n",
    "    new_h, new_C = lltm_python(X, (h, C))\n",
    "    forward += time.time() - start\n",
    "\n",
    "    start = time.time()\n",
    "    (new_h.sum() + new_C.sum()).backward()\n",
    "    backward += time.time() - start\n",
    "\n",
    "print('lltm python Forward: {:.3f} us | Backward {:.3f} us'.format(forward * 1e6/test_iters, backward * 1e6/test_iters))"
   ]
  },
  {
   "cell_type": "code",
   "execution_count": 9,
   "metadata": {},
   "outputs": [
    {
     "name": "stdout",
     "output_type": "stream",
     "text": [
      "lltm cpp Forward: 130.727 us | Backward 327.048 us\n"
     ]
    }
   ],
   "source": [
    "# ======================================\n",
    "# test cpp extended lltm\n",
    "\n",
    "X = torch.randn(batch_size, input_features)\n",
    "h = torch.randn(batch_size, state_size)\n",
    "C = torch.randn(batch_size, state_size)\n",
    "\n",
    "lltm_cpp = LLTMcpp(input_features, state_size)\n",
    "\n",
    "forward = 0\n",
    "backward = 0\n",
    "for _ in range(test_iters):\n",
    "    start = time.time()\n",
    "    new_h, new_C = lltm_cpp(X, (h, C))\n",
    "    forward += time.time() - start\n",
    "\n",
    "    start = time.time()\n",
    "    (new_h.sum() + new_C.sum()).backward()\n",
    "    backward += time.time() - start\n",
    "\n",
    "print('lltm cpp Forward: {:.3f} us | Backward {:.3f} us'.format(forward * 1e6/test_iters, backward * 1e6/test_iters))"
   ]
  },
  {
   "cell_type": "code",
   "execution_count": 12,
   "metadata": {},
   "outputs": [
    {
     "name": "stdout",
     "output_type": "stream",
     "text": [
      "Forward: 138.314 us | Backward 530.430 us\n"
     ]
    }
   ],
   "source": [
    "# ========================================\n",
    "# test cpp extended lltm on gpu\n",
    "\n",
    "assert torch.cuda.is_available()\n",
    "cuda_device = torch.device(\"cuda\")  # device object representing GPU\n",
    "\n",
    "# Note the device=cuda_device arguments here\n",
    "X = torch.randn(batch_size, input_features, device=cuda_device)\n",
    "h = torch.randn(batch_size, state_size, device=cuda_device)\n",
    "C = torch.randn(batch_size, state_size, device=cuda_device)\n",
    "\n",
    "lltm_cpp = LLTMcpp(input_features, state_size).to(cuda_device)\n",
    "\n",
    "forward = 0\n",
    "backward = 0\n",
    "for _ in range(test_iters):\n",
    "    start = time.time()\n",
    "    new_h, new_C = lltm_cpp(X, (h, C))\n",
    "    torch.cuda.synchronize()\n",
    "    forward += time.time() - start\n",
    "\n",
    "    start = time.time()\n",
    "    (new_h.sum() + new_C.sum()).backward()\n",
    "    torch.cuda.synchronize()\n",
    "    backward += time.time() - start\n",
    "\n",
    "print('Forward: {:.3f} us | Backward {:.3f} us'.format(forward * 1e6/test_iters, backward * 1e6/test_iters))"
   ]
  },
  {
   "cell_type": "code",
   "execution_count": 2,
   "metadata": {},
   "outputs": [
    {
     "name": "stdout",
     "output_type": "stream",
     "text": [
      "Forward: 92.028 us | Backward 259.984 us\n"
     ]
    }
   ],
   "source": [
    "# ========================================\n",
    "# test cuda lltm on gpu\n",
    "\n",
    "assert torch.cuda.is_available()\n",
    "cuda_device = torch.device(\"cuda\")  # device object representing GPU\n",
    "\n",
    "# Note the device=cuda_device arguments here\n",
    "X = torch.randn(batch_size, input_features, device=cuda_device)\n",
    "h = torch.randn(batch_size, state_size, device=cuda_device)\n",
    "C = torch.randn(batch_size, state_size, device=cuda_device)\n",
    "\n",
    "lltm_cuda = LLTMcuda(input_features, state_size).to(cuda_device)\n",
    "\n",
    "forward = 0\n",
    "backward = 0\n",
    "for _ in range(test_iters):\n",
    "    start = time.time()\n",
    "    new_h, new_C = lltm_cuda(X, (h, C))\n",
    "    torch.cuda.synchronize()\n",
    "    forward += time.time() - start\n",
    "\n",
    "    start = time.time()\n",
    "    (new_h.sum() + new_C.sum()).backward()\n",
    "    torch.cuda.synchronize()\n",
    "    backward += time.time() - start\n",
    "\n",
    "print('Forward: {:.3f} us | Backward {:.3f} us'.format(forward * 1e6/test_iters, backward * 1e6/test_iters))"
   ]
  },
  {
   "cell_type": "code",
   "execution_count": null,
   "metadata": {},
   "outputs": [],
   "source": []
  }
 ],
 "metadata": {
  "kernelspec": {
   "display_name": "Python 3",
   "language": "python",
   "name": "python3"
  },
  "language_info": {
   "codemirror_mode": {
    "name": "ipython",
    "version": 3
   },
   "file_extension": ".py",
   "mimetype": "text/x-python",
   "name": "python",
   "nbconvert_exporter": "python",
   "pygments_lexer": "ipython3",
   "version": "3.6.8"
  }
 },
 "nbformat": 4,
 "nbformat_minor": 2
}
