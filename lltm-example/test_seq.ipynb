{
 "cells": [
  {
   "cell_type": "code",
   "execution_count": 58,
   "metadata": {},
   "outputs": [],
   "source": [
    "import torch\n",
    "import math\n",
    "import time\n",
    "from LLTMpython.LLTM import LLTM as LLTMpython\n",
    "from LLTMcpp.LLTM import LLTM as LLTMcpp\n",
    "from LLTMcuda.LLTM import LLTM as LLTMcuda\n",
    "\n",
    "assert torch.cuda.is_available()\n",
    "cuda_device = torch.device(\"cuda\")  # device object representing GPU\n",
    "cpu_device = torch.device(\"cpu\")\n",
    "\n",
    "\n",
    "batch_size = 32\n",
    "input_features = 300\n",
    "state_size = 64\n",
    "input_seq_len = 2000\n",
    "\n",
    "X = torch.randn(batch_size, input_features, input_seq_len, device=cpu_device)\n",
    "h = torch.randn(batch_size, state_size, device=cpu_device)\n",
    "C = torch.randn(batch_size, state_size, device=cpu_device)\n",
    "\n",
    "# Note the device=cuda_device arguments here\n",
    "X_gpu = torch.randn(batch_size, input_features, input_seq_len, device=cuda_device)\n",
    "h_gpu = torch.randn(batch_size, state_size, device=cuda_device)\n",
    "C_gpu = torch.randn(batch_size, state_size, device=cuda_device)\n"
   ]
  },
  {
   "cell_type": "code",
   "execution_count": 59,
   "metadata": {},
   "outputs": [
    {
     "name": "stdout",
     "output_type": "stream",
     "text": [
      "lltm python on cpu: Forward: 387.046 us | Backward 285.247 us\n"
     ]
    }
   ],
   "source": [
    "# ======================================\n",
    "# test basic python lltm on cpu\n",
    "\n",
    "lltm_python = LLTMpython(input_features, state_size).to(cpu_device)\n",
    "\n",
    "python_cpu_forward = 0\n",
    "python_cpu_backward = 0\n",
    "\n",
    "xx = X\n",
    "hh = h\n",
    "cc = C\n",
    "\n",
    "for t in range(input_seq_len):\n",
    "    start = time.time()\n",
    "    new_hh, new_cc = lltm_python(xx[:,:,t].squeeze(), (hh, cc))\n",
    "    python_cpu_forward += time.time() - start\n",
    "    \n",
    "    hh = new_hh\n",
    "    cc = new_cc\n",
    "\n",
    "start = time.time()\n",
    "(hh.sum() + cc.sum()).backward()\n",
    "python_cpu_backward += time.time() - start\n",
    "\n",
    "print('lltm python on cpu: Forward: {:.3f} us | Backward {:.3f} us'.format(python_cpu_forward * 1e6/test_iters, python_cpu_backward * 1e6/test_iters))"
   ]
  },
  {
   "cell_type": "code",
   "execution_count": 60,
   "metadata": {},
   "outputs": [
    {
     "name": "stdout",
     "output_type": "stream",
     "text": [
      "lltm python on gpu: Forward: 303.913 us | Backward 308.658 us\n"
     ]
    }
   ],
   "source": [
    "# ======================================\n",
    "# test basic python lltm on gpu\n",
    "\n",
    "lltm_python = LLTMpython(input_features, state_size).to(cuda_device)\n",
    "\n",
    "python_gpu_forward = 0\n",
    "python_gpu_backward = 0\n",
    "\n",
    "xx = X_gpu\n",
    "hh = h_gpu\n",
    "cc = C_gpu\n",
    "\n",
    "for t in range(input_seq_len):\n",
    "    start = time.time()\n",
    "    new_hh, new_cc = lltm_python(xx[:,:,t].squeeze(), (hh, cc))\n",
    "    python_gpu_forward += time.time() - start\n",
    "    \n",
    "    hh = new_hh\n",
    "    cc = new_cc\n",
    "\n",
    "start = time.time()\n",
    "(hh.sum() + cc.sum()).backward()\n",
    "python_gpu_backward += time.time() - start\n",
    "\n",
    "print('lltm python on gpu: Forward: {:.3f} us | Backward {:.3f} us'.format(python_gpu_forward * 1e6/test_iters, python_gpu_backward * 1e6/test_iters))"
   ]
  },
  {
   "cell_type": "code",
   "execution_count": 61,
   "metadata": {},
   "outputs": [
    {
     "name": "stdout",
     "output_type": "stream",
     "text": [
      "lltm cpp on cpu: Forward: 333.872 us | Backward 443.482 us\n"
     ]
    }
   ],
   "source": [
    "# ======================================\n",
    "# test cpp extended lltm on cpu\n",
    "\n",
    "lltm_cpp = LLTMcpp(input_features, state_size).to(cpu_device)\n",
    "\n",
    "cpp_cpu_forward = 0\n",
    "cpp_cpu_backward = 0\n",
    "\n",
    "xx = X\n",
    "hh = h\n",
    "cc = C\n",
    "\n",
    "for t in range(input_seq_len):\n",
    "    start = time.time()\n",
    "    new_hh, new_cc = lltm_cpp(xx[:,:,t].squeeze(), (hh, cc))\n",
    "    cpp_cpu_forward += time.time() - start\n",
    "    \n",
    "    hh = new_hh\n",
    "    cc = new_cc\n",
    "\n",
    "start = time.time()\n",
    "(hh.sum() + cc.sum()).backward()\n",
    "cpp_cpu_backward += time.time() - start\n",
    "\n",
    "print('lltm cpp on cpu: Forward: {:.3f} us | Backward {:.3f} us'.format(cpp_cpu_forward * 1e6/test_iters, cpp_cpu_backward * 1e6/test_iters))"
   ]
  },
  {
   "cell_type": "code",
   "execution_count": 62,
   "metadata": {},
   "outputs": [
    {
     "name": "stdout",
     "output_type": "stream",
     "text": [
      "lltm cpp on gpu: Forward: 229.018 us | Backward 688.809 us\n"
     ]
    }
   ],
   "source": [
    "# ======================================\n",
    "# test cpp extended lltm on gpu\n",
    "\n",
    "lltm_cpp = LLTMcpp(input_features, state_size).to(cuda_device)\n",
    "\n",
    "cpp_gpu_forward = 0\n",
    "cpp_gpu_backward = 0\n",
    "\n",
    "xx = X_gpu\n",
    "hh = h_gpu\n",
    "cc = C_gpu\n",
    "\n",
    "for t in range(input_seq_len):\n",
    "    start = time.time()\n",
    "    new_hh, new_cc = lltm_cpp(xx[:,:,t].squeeze(), (hh, cc))\n",
    "    cpp_gpu_forward += time.time() - start\n",
    "    \n",
    "    hh = new_hh\n",
    "    cc = new_cc\n",
    "\n",
    "start = time.time()\n",
    "(hh.sum() + cc.sum()).backward()\n",
    "cpp_gpu_backward += time.time() - start\n",
    "\n",
    "print('lltm cpp on gpu: Forward: {:.3f} us | Backward {:.3f} us'.format(cpp_gpu_forward * 1e6/test_iters, cpp_gpu_backward * 1e6/test_iters))"
   ]
  },
  {
   "cell_type": "code",
   "execution_count": 63,
   "metadata": {},
   "outputs": [
    {
     "name": "stdout",
     "output_type": "stream",
     "text": [
      "lltm cuda on gpu: Forward: 214.389 us | Backward 207.433 us\n"
     ]
    }
   ],
   "source": [
    "# ========================================\n",
    "# test cuda lltm on gpu\n",
    "\n",
    "lltm_cuda = LLTMcuda(input_features, state_size).to(cuda_device)\n",
    "\n",
    "cuda_gpu_forward = 0\n",
    "cuda_gpu_backward = 0\n",
    "\n",
    "xx = X_gpu\n",
    "hh = h_gpu\n",
    "cc = C_gpu\n",
    "\n",
    "for t in range(input_seq_len):\n",
    "    start = time.time()\n",
    "    new_hh, new_cc = lltm_cuda(xx[:,:,t].squeeze().contiguous(), (hh, cc))\n",
    "    cuda_gpu_forward += time.time() - start\n",
    "    \n",
    "    hh = new_hh\n",
    "    cc = new_cc\n",
    "\n",
    "start = time.time()\n",
    "(hh.sum() + cc.sum()).backward()\n",
    "cuda_gpu_backward += time.time() - start\n",
    "\n",
    "print('lltm cuda on gpu: Forward: {:.3f} us | Backward {:.3f} us'.format(cuda_gpu_forward * 1e6/test_iters, cuda_gpu_backward * 1e6/test_iters))"
   ]
  },
  {
   "cell_type": "code",
   "execution_count": 64,
   "metadata": {},
   "outputs": [
    {
     "name": "stdout",
     "output_type": "stream",
     "text": [
      "lltm python on cpu: Forward: 387.046 us | Backward 285.247 us\n",
      "lltm python on gpu: Forward: 303.913 us | Backward 308.658 us\n",
      "lltm cpp on cpu: Forward: 333.872 us | Backward 443.482 us\n",
      "lltm cpp on gpu: Forward: 229.018 us | Backward 688.809 us\n",
      "lltm cuda on gpu: Forward: 214.389 us | Backward 207.433 us\n"
     ]
    }
   ],
   "source": [
    "# print all results\n",
    "print('lltm python on cpu: Forward: {:.3f} us | Backward {:.3f} us'.format(python_cpu_forward * 1e6/test_iters, python_cpu_backward * 1e6/test_iters))\n",
    "print('lltm python on gpu: Forward: {:.3f} us | Backward {:.3f} us'.format(python_gpu_forward * 1e6/test_iters, python_gpu_backward * 1e6/test_iters))\n",
    "print('lltm cpp on cpu: Forward: {:.3f} us | Backward {:.3f} us'.format(cpp_cpu_forward * 1e6/test_iters, cpp_cpu_backward * 1e6/test_iters))\n",
    "print('lltm cpp on gpu: Forward: {:.3f} us | Backward {:.3f} us'.format(cpp_gpu_forward * 1e6/test_iters, cpp_gpu_backward * 1e6/test_iters))\n",
    "print('lltm cuda on gpu: Forward: {:.3f} us | Backward {:.3f} us'.format(cuda_gpu_forward * 1e6/test_iters, cuda_gpu_backward * 1e6/test_iters))"
   ]
  },
  {
   "cell_type": "code",
   "execution_count": null,
   "metadata": {},
   "outputs": [],
   "source": []
  }
 ],
 "metadata": {
  "kernelspec": {
   "display_name": "Python 3",
   "language": "python",
   "name": "python3"
  },
  "language_info": {
   "codemirror_mode": {
    "name": "ipython",
    "version": 3
   },
   "file_extension": ".py",
   "mimetype": "text/x-python",
   "name": "python",
   "nbconvert_exporter": "python",
   "pygments_lexer": "ipython3",
   "version": "3.6.8"
  }
 },
 "nbformat": 4,
 "nbformat_minor": 2
}
